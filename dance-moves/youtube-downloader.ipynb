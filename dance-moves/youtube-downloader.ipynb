{
 "cells": [
  {
   "cell_type": "code",
   "execution_count": 1,
   "id": "25253fe4-2234-4966-a47a-bc4d393fee21",
   "metadata": {},
   "outputs": [],
   "source": [
    "import os\n",
    "from pytube import YouTube\n",
    "import certifi\n",
    "from utils import get_video_dir_path, get_video_name, get_youtube_video, timing_decorator"
   ]
  },
  {
   "cell_type": "code",
   "execution_count": 2,
   "id": "5e160074-6e35-4228-8528-05b36654c7c8",
   "metadata": {},
   "outputs": [],
   "source": [
    "os.environ[\"SSL_CERT_FILE\"] = certifi.where()"
   ]
  },
  {
   "cell_type": "code",
   "execution_count": 3,
   "id": "b0ca4c37-b27f-4c50-ae7e-e75ef568996f",
   "metadata": {},
   "outputs": [],
   "source": [
    "video_dir_path = get_video_dir_path()\n",
    "video_url = get_youtube_video()\n",
    "video_name = get_video_name()"
   ]
  },
  {
   "cell_type": "code",
   "execution_count": 4,
   "id": "2acff410-186b-4785-b7a7-915861861fcd",
   "metadata": {},
   "outputs": [],
   "source": [
    "@timing_decorator\n",
    "def download_video_from_youtube(video_url, videos_path, video_name):\n",
    "    YouTube(video_url).streams.first().download(videos_path, filename=video_name)"
   ]
  },
  {
   "cell_type": "code",
   "execution_count": 5,
   "id": "fded5b1b-0394-43df-9e6a-fd10c0e29bf6",
   "metadata": {},
   "outputs": [
    {
     "name": "stdout",
     "output_type": "stream",
     "text": [
      "Начало загрузки\n",
      "Время выполнения download_video_from_youtube: 15.05 секунд\n",
      "Окночание загрузки\n"
     ]
    }
   ],
   "source": [
    "print('Начало загрузки')\n",
    "download_video_from_youtube(video_url, video_dir_path, video_name)\n",
    "print('Окночание загрузки')"
   ]
  }
 ],
 "metadata": {
  "kernelspec": {
   "display_name": "Python 3 (ipykernel)",
   "language": "python",
   "name": "python3"
  },
  "language_info": {
   "codemirror_mode": {
    "name": "ipython",
    "version": 3
   },
   "file_extension": ".py",
   "mimetype": "text/x-python",
   "name": "python",
   "nbconvert_exporter": "python",
   "pygments_lexer": "ipython3",
   "version": "3.10.4"
  }
 },
 "nbformat": 4,
 "nbformat_minor": 5
}
