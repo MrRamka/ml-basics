{
 "cells": [
  {
   "cell_type": "code",
   "execution_count": 1,
   "id": "34084139-ba3b-4619-9ef6-ec2872ca1436",
   "metadata": {},
   "outputs": [],
   "source": [
    "import cv2\n",
    "import os\n",
    "import numpy as np\n",
    "from utils import get_video_path, get_images_dir_path, get_every_video_frame, get_image_prefix, timing_decorator"
   ]
  },
  {
   "cell_type": "code",
   "execution_count": 2,
   "id": "50c9aa84-d6b4-4b83-99ab-43b0edaa2a41",
   "metadata": {},
   "outputs": [],
   "source": [
    "BLACK_PERCENTAGE = 30 # разрешенный процент черного цвета на фото\n",
    "TARGET_IMAGE_FRAME = (96, 54) # целевой размер изображения"
   ]
  },
  {
   "cell_type": "code",
   "execution_count": 3,
   "id": "3cddfab1-ef6e-45f2-8d60-80fcf59e01e8",
   "metadata": {},
   "outputs": [],
   "source": [
    "video_path = get_video_path()\n",
    "images_path = get_images_dir_path()\n",
    "every_video_frame = get_every_video_frame()\n",
    "image_prefix = get_image_prefix()"
   ]
  },
  {
   "cell_type": "code",
   "execution_count": 4,
   "id": "724dd547-c7e6-411e-90b1-de5134848499",
   "metadata": {},
   "outputs": [],
   "source": [
    "# расчёт процента черного цвета на фото\n",
    "def calculate_black_percentage(image, binary):\n",
    "    black_pixels = np.sum(binary == 0)\n",
    "    total_pixels = image.shape[0] * image.shape[1]\n",
    "\n",
    "    black_percentage = (black_pixels / total_pixels) * 100\n",
    "\n",
    "    return black_percentage"
   ]
  },
  {
   "cell_type": "code",
   "execution_count": 5,
   "id": "144c5805-8b54-40c2-aa44-d7cfb8dfac31",
   "metadata": {},
   "outputs": [],
   "source": [
    "# обработка кадра\n",
    "def process_frame(frame, target_size=TARGET_IMAGE_FRAME):\n",
    "    resized_frame = cv2.resize(frame, target_size, interpolation=cv2.INTER_LINEAR)\n",
    "\n",
    "    gray = cv2.cvtColor(resized_frame, cv2.COLOR_BGR2GRAY)\n",
    "\n",
    "    _, binary = cv2.threshold(gray, 20, 255, cv2.THRESH_BINARY)\n",
    "\n",
    "    black_percentage = calculate_black_percentage(resized_frame, binary)\n",
    "\n",
    "    if black_percentage > BLACK_PERCENTAGE:\n",
    "        return None, True\n",
    "\n",
    "    return binary, False"
   ]
  },
  {
   "cell_type": "code",
   "execution_count": 6,
   "id": "d03266ca-ea5c-453a-bd6d-2d1f7f2daac2",
   "metadata": {},
   "outputs": [],
   "source": [
    "def create_image_path(output_folder, image_prefix, saved_frame_count):\n",
    "    frame_filename = os.path.join(output_folder, f'{image_prefix}{saved_frame_count:05d}.jpg')\n",
    "    return frame_filename"
   ]
  },
  {
   "cell_type": "code",
   "execution_count": 7,
   "id": "6241092d-df44-4984-ac8f-e10ff3e6eb96",
   "metadata": {},
   "outputs": [],
   "source": [
    "@timing_decorator\n",
    "def save_frames(video_path, output_folder, image_prefix, every_video_frame):\n",
    "    if not os.path.exists(output_folder):\n",
    "        os.makedirs(output_folder)\n",
    "\n",
    "    cap = cv2.VideoCapture(video_path)\n",
    "\n",
    "    if not cap.isOpened():\n",
    "        print(f\"Ошибка открытия видео {video_path}\")\n",
    "        return\n",
    "\n",
    "    frame_count = 0\n",
    "    saved_frame_count = 0\n",
    "\n",
    "    while True:\n",
    "        ret, frame = cap.read()\n",
    "\n",
    "        if not ret:\n",
    "            break\n",
    "\n",
    "        if frame_count % every_video_frame == 0:\n",
    "            frame, is_error = process_frame(frame)\n",
    "\n",
    "            if is_error:\n",
    "                continue\n",
    "\n",
    "            frame_filename = create_image_path(output_folder, image_prefix, saved_frame_count)\n",
    "            cv2.imwrite(frame_filename, frame)\n",
    "            saved_frame_count += 1\n",
    "\n",
    "        frame_count += 1\n",
    "\n",
    "    cap.release()\n",
    "    print(f\"Сохранено {saved_frame_count} кадров в папку {output_folder}\")"
   ]
  },
  {
   "cell_type": "code",
   "execution_count": 8,
   "id": "e2d456cf-d07e-47b5-8b4e-2e3db0d4d843",
   "metadata": {},
   "outputs": [
    {
     "name": "stdout",
     "output_type": "stream",
     "text": [
      "Началась обработка видео\n",
      "Сохранено 47933 кадров в папку /Users/rrminyukov/PycharmProjects/ml-basics/dance-moves/images\n",
      "Время выполнения save_frames: 46.55 секунд\n",
      "Обработка видео завершена\n"
     ]
    }
   ],
   "source": [
    "print(f\"Началась обработка видео\")\n",
    "save_frames(video_path=video_path, output_folder=images_path, image_prefix=image_prefix,\n",
    "                every_video_frame=every_video_frame)\n",
    "print(f\"Обработка видео завершена\")"
   ]
  },
  {
   "cell_type": "code",
   "execution_count": null,
   "id": "ec2425d4-6334-47f6-a4b3-2dfd0b3be253",
   "metadata": {},
   "outputs": [],
   "source": []
  }
 ],
 "metadata": {
  "kernelspec": {
   "display_name": "Python 3 (ipykernel)",
   "language": "python",
   "name": "python3"
  },
  "language_info": {
   "codemirror_mode": {
    "name": "ipython",
    "version": 3
   },
   "file_extension": ".py",
   "mimetype": "text/x-python",
   "name": "python",
   "nbconvert_exporter": "python",
   "pygments_lexer": "ipython3",
   "version": "3.10.4"
  }
 },
 "nbformat": 4,
 "nbformat_minor": 5
}
